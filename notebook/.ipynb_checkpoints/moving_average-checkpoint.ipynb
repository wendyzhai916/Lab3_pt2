{
 "cells": [
  {
   "cell_type": "code",
   "execution_count": 1,
   "id": "567f9ea0",
   "metadata": {},
   "outputs": [],
   "source": [
    "import pandas as pd\n",
    "import numpy as np\n",
    "import yfinance as yf"
   ]
  },
  {
   "cell_type": "code",
   "execution_count": 2,
   "id": "dcdad293",
   "metadata": {},
   "outputs": [
    {
     "name": "stderr",
     "output_type": "stream",
     "text": [
      "[*********************100%%**********************]  1 of 1 completed\n"
     ]
    }
   ],
   "source": [
    "data = yf.download('AAPL', start='2022-01-01', end='2024-01-01')"
   ]
  },
  {
   "cell_type": "code",
   "execution_count": 3,
   "id": "17173b90",
   "metadata": {},
   "outputs": [
    {
     "data": {
      "text/html": [
       "<div>\n",
       "<style scoped>\n",
       "    .dataframe tbody tr th:only-of-type {\n",
       "        vertical-align: middle;\n",
       "    }\n",
       "\n",
       "    .dataframe tbody tr th {\n",
       "        vertical-align: top;\n",
       "    }\n",
       "\n",
       "    .dataframe thead th {\n",
       "        text-align: right;\n",
       "    }\n",
       "</style>\n",
       "<table border=\"1\" class=\"dataframe\">\n",
       "  <thead>\n",
       "    <tr style=\"text-align: right;\">\n",
       "      <th></th>\n",
       "      <th>Open</th>\n",
       "      <th>High</th>\n",
       "      <th>Low</th>\n",
       "      <th>Close</th>\n",
       "      <th>Adj Close</th>\n",
       "      <th>Volume</th>\n",
       "    </tr>\n",
       "    <tr>\n",
       "      <th>Date</th>\n",
       "      <th></th>\n",
       "      <th></th>\n",
       "      <th></th>\n",
       "      <th></th>\n",
       "      <th></th>\n",
       "      <th></th>\n",
       "    </tr>\n",
       "  </thead>\n",
       "  <tbody>\n",
       "    <tr>\n",
       "      <th>2022-01-03</th>\n",
       "      <td>177.830002</td>\n",
       "      <td>182.880005</td>\n",
       "      <td>177.710007</td>\n",
       "      <td>182.009995</td>\n",
       "      <td>179.953888</td>\n",
       "      <td>104487900</td>\n",
       "    </tr>\n",
       "    <tr>\n",
       "      <th>2022-01-04</th>\n",
       "      <td>182.630005</td>\n",
       "      <td>182.940002</td>\n",
       "      <td>179.119995</td>\n",
       "      <td>179.699997</td>\n",
       "      <td>177.669983</td>\n",
       "      <td>99310400</td>\n",
       "    </tr>\n",
       "    <tr>\n",
       "      <th>2022-01-05</th>\n",
       "      <td>179.610001</td>\n",
       "      <td>180.169998</td>\n",
       "      <td>174.639999</td>\n",
       "      <td>174.919998</td>\n",
       "      <td>172.944000</td>\n",
       "      <td>94537600</td>\n",
       "    </tr>\n",
       "    <tr>\n",
       "      <th>2022-01-06</th>\n",
       "      <td>172.699997</td>\n",
       "      <td>175.300003</td>\n",
       "      <td>171.639999</td>\n",
       "      <td>172.000000</td>\n",
       "      <td>170.056976</td>\n",
       "      <td>96904000</td>\n",
       "    </tr>\n",
       "    <tr>\n",
       "      <th>2022-01-07</th>\n",
       "      <td>172.889999</td>\n",
       "      <td>174.139999</td>\n",
       "      <td>171.029999</td>\n",
       "      <td>172.169998</td>\n",
       "      <td>170.225082</td>\n",
       "      <td>86709100</td>\n",
       "    </tr>\n",
       "  </tbody>\n",
       "</table>\n",
       "</div>"
      ],
      "text/plain": [
       "                  Open        High         Low       Close   Adj Close  \\\n",
       "Date                                                                     \n",
       "2022-01-03  177.830002  182.880005  177.710007  182.009995  179.953888   \n",
       "2022-01-04  182.630005  182.940002  179.119995  179.699997  177.669983   \n",
       "2022-01-05  179.610001  180.169998  174.639999  174.919998  172.944000   \n",
       "2022-01-06  172.699997  175.300003  171.639999  172.000000  170.056976   \n",
       "2022-01-07  172.889999  174.139999  171.029999  172.169998  170.225082   \n",
       "\n",
       "               Volume  \n",
       "Date                   \n",
       "2022-01-03  104487900  \n",
       "2022-01-04   99310400  \n",
       "2022-01-05   94537600  \n",
       "2022-01-06   96904000  \n",
       "2022-01-07   86709100  "
      ]
     },
     "execution_count": 3,
     "metadata": {},
     "output_type": "execute_result"
    }
   ],
   "source": [
    "data.head()"
   ]
  },
  {
   "cell_type": "code",
   "execution_count": 6,
   "id": "00812da4",
   "metadata": {},
   "outputs": [],
   "source": [
    "data['MA20'] = data['Close'].rolling(window=20).mean()\n",
    "data['MA50'] = data['Close'].rolling(window=50).mean()"
   ]
  },
  {
   "cell_type": "code",
   "execution_count": 11,
   "id": "36392f02",
   "metadata": {},
   "outputs": [],
   "source": [
    "data['Signal'] = np.where(data['MA20']>data['MA50'],1,0)\n",
    "data['Position'] = data['Signal'].diff()"
   ]
  },
  {
   "cell_type": "code",
   "execution_count": 13,
   "id": "e74a7670",
   "metadata": {},
   "outputs": [],
   "source": [
    "data['Buy'] = np.where(data['Position'] == 1, data['Close'], np.NAN)\n",
    "data['Sell'] = np.where(data['Position'] == -1, data['Close'], np.NAN)"
   ]
  },
  {
   "cell_type": "code",
   "execution_count": null,
   "id": "c2acaf17",
   "metadata": {},
   "outputs": [],
   "source": []
  },
  {
   "cell_type": "code",
   "execution_count": 22,
   "id": "e13cc14d",
   "metadata": {},
   "outputs": [],
   "source": [
    "def moving_average(data):\n",
    "    '''\n",
    "    Returns a pandas dataframe with two columns, Buy and Sell\n",
    "    If buy on the date, value will be the closing price. Otherwise NA\n",
    "    If sell on the date, value will be the closing price. Otherwise NA\n",
    "    '''\n",
    "    data['MA20'] = data['Close'].rolling(window=20).mean() # moving average of 20 days\n",
    "    data['MA50'] = data['Close'].rolling(window=50).mean() # moving average of 50 days\n",
    "    data['Signal'] = np.where(data['MA20']>data['MA50'],1,0) \n",
    "    data['Position'] = data['Signal'].diff()\n",
    "    data['Buy'] = np.where(data['Position'] == 1, data['Close'], np.NAN)\n",
    "    data['Sell'] = np.where(data['Position'] == -1, data['Close'], np.NAN)\n",
    "    return data[['Buy','Sell']]"
   ]
  },
  {
   "cell_type": "code",
   "execution_count": null,
   "id": "3af56b27",
   "metadata": {},
   "outputs": [],
   "source": [
    "from sklearn.metrics import mean_absolute_error\n",
    "from sklearn.metrics import mean_squared_error\n",
    "from sklearn.metrics import r2_score"
   ]
  },
  {
   "cell_type": "code",
   "execution_count": null,
   "id": "4b3689e3",
   "metadata": {},
   "outputs": [],
   "source": [
    "def evaluation_mean_absolute_errormetrics(price_pred, price_true):\n",
    "    MAE = "
   ]
  },
  {
   "cell_type": "code",
   "execution_count": null,
   "id": "6250b9ed",
   "metadata": {},
   "outputs": [],
   "source": []
  },
  {
   "cell_type": "code",
   "execution_count": null,
   "id": "6e9fa3d5",
   "metadata": {},
   "outputs": [],
   "source": []
  }
 ],
 "metadata": {
  "kernelspec": {
   "display_name": "Python 3 (ipykernel)",
   "language": "python",
   "name": "python3"
  },
  "language_info": {
   "codemirror_mode": {
    "name": "ipython",
    "version": 3
   },
   "file_extension": ".py",
   "mimetype": "text/x-python",
   "name": "python",
   "nbconvert_exporter": "python",
   "pygments_lexer": "ipython3",
   "version": "3.9.7"
  }
 },
 "nbformat": 4,
 "nbformat_minor": 5
}
